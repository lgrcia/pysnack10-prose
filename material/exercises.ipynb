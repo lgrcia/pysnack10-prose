{
 "cells": [
  {
   "cell_type": "markdown",
   "metadata": {},
   "source": [
    "# Exercises\n",
    "\n",
    "## Exercise 1: Video of the night\n",
    "\n",
    "Produce a reduction video of the night showing:\n",
    "- The raw, unreduced, image\n",
    "- The reduced image with stars aligned\n",
    "- A zoom on the target and its PSF model\n",
    "\n",
    "You can get inspiration from [this tutorial](https://prose.readthedocs.io/en/latest/ipynb/casestudies/hiaka.html)."
   ]
  },
  {
   "cell_type": "markdown",
   "metadata": {},
   "source": []
  }
 ],
 "metadata": {
  "language_info": {
   "name": "python"
  }
 },
 "nbformat": 4,
 "nbformat_minor": 2
}
