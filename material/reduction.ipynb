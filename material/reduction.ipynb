{
 "cells": [
  {
   "cell_type": "markdown",
   "metadata": {},
   "source": [
    "# Photometry\n",
    "\n",
    "In 2010, The TRAPPIST-South telescope (Gillon et al., 2011) was first installed and commissioned at the ESO La Silla Observatory, Chile. The TRAPPIST-South telescope is a robotic telescope with a 60 cm primary mirror with a f/8 Ritchey–Chrétien design attached to a German equatorial mount (all built and designed by the German company ASTELCO). Searching for transits on the 50th brightest southern very-late M-dwarfs (Gillon et al., 2013), this prototype survey led to the discovery of the TRAPPIST-1 system: 7 Earth-sized planets orbiting an M8 type star, 3 of which lying in its habitable zone.\n",
    "\n",
    "In this notebook, we will reduce the raw images of the first ever detection of a transit on TRAPPIST-1 ([Gillon et al. 2015](https://arxiv.org/pdf/1605.07211)).\n",
    "\n",
    "## Exploring the data folder\n",
    "\n",
    "Let's start by exploring the folder of raw data. \n",
    "\n",
    "**1. Use the `FitsManager` object from prose to explore the folder**"
   ]
  },
  {
   "cell_type": "code",
   "execution_count": 25,
   "metadata": {},
   "outputs": [],
   "source": [
    "# TODO"
   ]
  },
  {
   "cell_type": "markdown",
   "metadata": {},
   "source": [
    "As you can see the folder contains several images, some of them used for calibration of the science frames. We can use the `FitsManager` to select images associated to a certain night together with the corresponding calibration files."
   ]
  },
  {
   "cell_type": "code",
   "execution_count": null,
   "metadata": {
    "execution": {
     "iopub.execute_input": "2024-12-10T17:32:54.390218Z",
     "iopub.status.busy": "2024-12-10T17:32:54.390111Z",
     "iopub.status.idle": "2024-12-10T17:32:54.402061Z",
     "shell.execute_reply": "2024-12-10T17:32:54.401833Z"
    }
   },
   "outputs": [],
   "source": [
    "files = fm.observation_files(...)"
   ]
  },
  {
   "cell_type": "markdown",
   "metadata": {},
   "source": [
    "## Processing a reference image\n",
    "\n",
    "In order to perform the photometric extraction of stars fluxes on all images, we will select a reference image from which we will extract:\n",
    "\n",
    "- The stars positions, then reused and detected on all images (after being aligned to the reference)\n",
    "- The global full-width at half-maximum (fwhm) of the PSF, to scale the apertures used in the aperture photometry block\n"
   ]
  },
  {
   "cell_type": "code",
   "execution_count": null,
   "metadata": {
    "execution": {
     "iopub.execute_input": "2024-12-10T17:32:54.403291Z",
     "iopub.status.busy": "2024-12-10T17:32:54.403216Z",
     "iopub.status.idle": "2024-12-10T17:32:54.429257Z",
     "shell.execute_reply": "2024-12-10T17:32:54.428893Z"
    }
   },
   "outputs": [],
   "source": [
    "import numpy as np\n",
    "from prose import FITSImage, Sequence, blocks\n",
    "\n",
    "# reference is middle image\n",
    "ref = FITSImage(...)"
   ]
  },
  {
   "cell_type": "markdown",
   "metadata": {},
   "source": [
    "```{note}\n",
    "[FITSImage](prose.FITSImage) is the primary function used to load a FITS image into an [Image](prose.Image) object. While other loaders can be used, this loader is compatible with most of the images aquired from small to large-size ground-based telescopes.\n",
    "```"
   ]
  },
  {
   "cell_type": "markdown",
   "metadata": {},
   "source": [
    "**2. Look into the [photometry tutorial](https://prose.readthedocs.io/en/latest/ipynb/photometry.html) of prose to create and run the calibration [Sequence](https://prose.readthedocs.io/en/latest/md/generated/prose.Sequence.html#prose.Sequence) on the reference image**"
   ]
  },
  {
   "cell_type": "markdown",
   "metadata": {},
   "source": [
    "## Identifying the target\n",
    "\n",
    "In this image, we may want to identify the target by making a query to a catalog such as Gaia. During the original TRAPPIST, TRAPPIST-1 (located in this image) had not be named yet. One way to identify the target in the field was to check its coordinates and plot it on top of the image. Let's do that here.\n",
    "\n",
    "**3.**\n",
    "- **Find the coordinates of TRAPPIST-1** \n",
    "- **Create a [SkyCoord](https://docs.astropy.org/en/stable/api/astropy.coordinates.SkyCoord.html) object**\n",
    "- **Transform the coordinates to pixel coordinates**\n",
    "- **Plot the image and the target coordinates**"
   ]
  },
  {
   "cell_type": "code",
   "execution_count": 26,
   "metadata": {},
   "outputs": [],
   "source": [
    "# TODO\n",
    "\n",
    "target_id = ..."
   ]
  },
  {
   "cell_type": "markdown",
   "metadata": {},
   "source": [
    "## Aperture photometry\n",
    "\n",
    "We can now extract the photometry of these stars using this sequence"
   ]
  },
  {
   "cell_type": "markdown",
   "metadata": {},
   "source": [
    "**4. Look into the [photometry tutorial](https://prose.readthedocs.io/en/latest/ipynb/photometry.html) to create and execute the reduction sequence on all images. Call this sequence `photometry`**"
   ]
  },
  {
   "cell_type": "code",
   "execution_count": 27,
   "metadata": {},
   "outputs": [],
   "source": [
    "# TODO"
   ]
  },
  {
   "cell_type": "markdown",
   "metadata": {},
   "source": [
    "In this sequence, we performed aperture photometry with a bunch of other image processing steps. Let plot the different apertures we used."
   ]
  },
  {
   "cell_type": "code",
   "execution_count": null,
   "metadata": {
    "execution": {
     "iopub.execute_input": "2024-12-10T17:33:11.136104Z",
     "iopub.status.busy": "2024-12-10T17:33:11.136032Z",
     "iopub.status.idle": "2024-12-10T17:33:11.216187Z",
     "shell.execute_reply": "2024-12-10T17:33:11.215919Z"
    }
   },
   "outputs": [],
   "source": [
    "# we isolate the aperture photometry block\n",
    "ap_phot_block: blocks.AperturePhotometry = ...\n",
    "annulus_block: blocks.AnnulusBackground = ...\n",
    "radii = ap_phot_block._radii.copy()\n",
    "\n",
    "ref_cutout = ref.cutout(target_id, 80)\n",
    "ref_cutout.show(sources=False, figsize=5)\n",
    "for r in radii * ref.fwhm:\n",
    "    ref_cutout.sources[0].plot(r, label=False, c=\"C0\")\n",
    "\n",
    "ref_cutout.sources[0].plot(annulus_block.rin * ref.fwhm, label=False, c=\"y\")\n",
    "ref_cutout.sources[0].plot(annulus_block.rout * ref.fwhm, label=False, c=\"y\")"
   ]
  },
  {
   "cell_type": "markdown",
   "metadata": {},
   "source": [
    "- In yellow: we plotted the size of the annulus used to compute the local background of the target.\n",
    "- In blue: we plotted all the apertures on which we extract the photometry.\n",
    "\n",
    "```{note}\n",
    "As you may notice, the apertures do not seem optimally set for our observation. This is expected as the default values of the `AperturePhotometry` and `AnnulusBackground` are set to accommodate very generic observations. As an exercise, try to specify some optimal apertures and annulus for this observation when instantiating these two blocks in the sequence.\n",
    "```"
   ]
  },
  {
   "cell_type": "markdown",
   "metadata": {},
   "source": [
    "## The [Fluxes](prose.Fluxes) object\n",
    "\n",
    "The [GetFluxes](prose.blocks.GetFluxes) block provide a way to retrieve the fluxes computed by the [AperturePhotometry](prose.blocks.AperturePhotometry) minus the background estimated with [AnnulusBackground](prose.blocks.AnnulusBackground)"
   ]
  },
  {
   "cell_type": "code",
   "execution_count": null,
   "metadata": {
    "execution": {
     "iopub.execute_input": "2024-12-10T17:33:50.568338Z",
     "iopub.status.busy": "2024-12-10T17:33:50.568254Z",
     "iopub.status.idle": "2024-12-10T17:33:50.570306Z",
     "shell.execute_reply": "2024-12-10T17:33:50.570032Z"
    }
   },
   "outputs": [],
   "source": [
    "from prose import Fluxes\n",
    "\n",
    "raw_fluxes: Fluxes = photometry[-1].fluxes\n",
    "fluxes = raw_fluxes.copy()"
   ]
  },
  {
   "cell_type": "markdown",
   "metadata": {},
   "source": [
    "**5. Look into the [photometry tutorial](https://prose.readthedocs.io/en/latest/ipynb/photometry.html) to retrieve the fluxes from the science images and produce a differential light curve of the target**"
   ]
  },
  {
   "cell_type": "code",
   "execution_count": null,
   "metadata": {},
   "outputs": [],
   "source": [
    "# TODO"
   ]
  },
  {
   "cell_type": "markdown",
   "metadata": {},
   "source": [
    "Let's save these data to analyze them in the next notebook"
   ]
  },
  {
   "cell_type": "code",
   "execution_count": null,
   "metadata": {
    "execution": {
     "iopub.execute_input": "2024-12-10T17:33:50.778213Z",
     "iopub.status.busy": "2024-12-10T17:33:50.778098Z",
     "iopub.status.idle": "2024-12-10T17:33:50.782236Z",
     "shell.execute_reply": "2024-12-10T17:33:50.782002Z"
    }
   },
   "outputs": [],
   "source": [
    "diff.save(f\"../data/{ref.label}.flux\")"
   ]
  },
  {
   "cell_type": "markdown",
   "metadata": {},
   "source": [
    "## Finding the proper citations\n",
    "\n",
    "`prose` depends on a lot of Python packages and published methods. When using prose in your research, you can generate a complete aknowledgment sentence (and associated BibTeX entries) based on the blocks used in a [Sequence](prose.Sequence).\n",
    "\n",
    "For example, given our photometry sequence, citations can be extracted with\n"
   ]
  },
  {
   "cell_type": "code",
   "execution_count": null,
   "metadata": {
    "execution": {
     "iopub.execute_input": "2024-12-10T17:33:50.783397Z",
     "iopub.status.busy": "2024-12-10T17:33:50.783303Z",
     "iopub.status.idle": "2024-12-10T17:33:50.785048Z",
     "shell.execute_reply": "2024-12-10T17:33:50.784760Z"
    }
   },
   "outputs": [],
   "source": [
    "acknowledgement, bibtex = photometry.citations()"
   ]
  },
  {
   "cell_type": "markdown",
   "metadata": {},
   "source": [
    "where `acknowledgement` contains the aknowledgment sentence and `bibtex` the necessary BibTeX entries. Please make sure to check the generated text and BibTeX entries before using them in your work."
   ]
  },
  {
   "cell_type": "code",
   "execution_count": null,
   "metadata": {
    "execution": {
     "iopub.execute_input": "2024-12-10T17:33:50.786152Z",
     "iopub.status.busy": "2024-12-10T17:33:50.786060Z",
     "iopub.status.idle": "2024-12-10T17:33:50.787695Z",
     "shell.execute_reply": "2024-12-10T17:33:50.787486Z"
    }
   },
   "outputs": [],
   "source": [
    "print(acknowledgement, \"\\n\")\n",
    "print(bibtex[:500], \"...\")"
   ]
  }
 ],
 "metadata": {
  "kernelspec": {
   "display_name": "Python 3 (ipykernel)",
   "language": "python",
   "name": "python3"
  },
  "language_info": {
   "codemirror_mode": {
    "name": "ipython",
    "version": 3
   },
   "file_extension": ".py",
   "mimetype": "text/x-python",
   "name": "python",
   "nbconvert_exporter": "python",
   "pygments_lexer": "ipython3",
   "version": "3.11.11"
  },
  "mystnb": {
   "execution_mode": "off"
  },
  "vscode": {
   "interpreter": {
    "hash": "75877e4ba96c35caac37ed872b33bb6f9b97815e438708d922c05a66c04690ae"
   }
  }
 },
 "nbformat": 4,
 "nbformat_minor": 4
}
