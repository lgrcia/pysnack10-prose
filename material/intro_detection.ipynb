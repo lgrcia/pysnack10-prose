{
 "cells": [
  {
   "cell_type": "markdown",
   "metadata": {},
   "source": [
    "# Introduction\n",
    "\n",
    "Now that we have reduced the raw images from the TRAPPIST telescope, our goal is to detect the transit in the light curve and model it. For this part of the workshop we will model the light curve from another night, where the transit of TRAPPIST-1d has been first observed.\n",
    "\n",
    "While it seems obvious in our data, transit signals can often be lost in correlated noise such as instrumental systematics and stellar variability. Let's visualize our data"
   ]
  },
  {
   "cell_type": "code",
   "execution_count": null,
   "metadata": {
    "execution": {
     "iopub.execute_input": "2024-12-10T17:33:54.931457Z",
     "iopub.status.busy": "2024-12-10T17:33:54.931107Z",
     "iopub.status.idle": "2024-12-10T17:33:56.401482Z",
     "shell.execute_reply": "2024-12-10T17:33:56.401024Z"
    }
   },
   "outputs": [],
   "source": [
    "from prose import Fluxes\n",
    "import matplotlib.pyplot as plt\n",
    "\n",
    "# this is the second dataset\n",
    "data = Fluxes.load(\"../data/TRAPPIST-South_20150928_UCDTS-48_I+z.flux\")\n",
    "\n",
    "ax = plt.subplot(xlabel=\"time (JD)\", ylabel=\"differential flux\")\n",
    "data.plot()\n",
    "data.bin(5 / 60 / 24, estimate_error=True).errorbar()"
   ]
  },
  {
   "cell_type": "markdown",
   "metadata": {},
   "source": [
    "As you can see, we might have observed a transit signal, but it is not clear what part of the light curve contains instrumental signal. To help us, here are some of the other instrumental signals we recorded along our observation:"
   ]
  },
  {
   "cell_type": "code",
   "execution_count": null,
   "metadata": {
    "execution": {
     "iopub.execute_input": "2024-12-10T17:33:56.403258Z",
     "iopub.status.busy": "2024-12-10T17:33:56.403058Z",
     "iopub.status.idle": "2024-12-10T17:33:56.467525Z",
     "shell.execute_reply": "2024-12-10T17:33:56.467232Z"
    }
   },
   "outputs": [],
   "source": [
    "import numpy as np\n",
    "\n",
    "plt.figure(None, (5, 7))\n",
    "ax = plt.subplot(xlabel=\"time (JD)\", ylabel=\"scaled signals (abritrary units)\")\n",
    "\n",
    "for i, name in enumerate([\"flux\", \"fwhm\", \"airmass\", \"bkg\", \"dx\", \"dy\"]):\n",
    "    y = data.df[name].copy()\n",
    "    y = (y - np.mean(y)) / np.std(y) + 8 * i\n",
    "    plt.text(data.time.max(), np.mean(y) + 4, name, ha=\"right\")\n",
    "    plt.plot(data.time, y, \".\", c=\"0.8\" if name != \"flux\" else \"k\")"
   ]
  },
  {
   "cell_type": "markdown",
   "metadata": {},
   "source": [
    "A common approach is to consider that the light curve can be modeled as a linear combination of these signals as explanatory variables, such as sky background, FWHM or airmass. Hence, we would model the light curve as:\n",
    "\n",
    "$$f = X\\omega$$\n",
    "\n",
    "where the row of the columns of the design matric $X$, contains some explatanory variables.\n",
    "\n",
    "**1. Define the design matrix $X$ and solve for w**"
   ]
  },
  {
   "cell_type": "code",
   "execution_count": null,
   "metadata": {},
   "outputs": [],
   "source": [
    "# TODO"
   ]
  },
  {
   "cell_type": "markdown",
   "metadata": {},
   "source": [
    "Let's find the least squares solution of the equation previously defined and see if this model can explain the signal well"
   ]
  },
  {
   "cell_type": "code",
   "execution_count": null,
   "metadata": {
    "execution": {
     "iopub.execute_input": "2024-12-10T17:33:56.473984Z",
     "iopub.status.busy": "2024-12-10T17:33:56.473860Z",
     "iopub.status.idle": "2024-12-10T17:33:56.608677Z",
     "shell.execute_reply": "2024-12-10T17:33:56.608281Z"
    }
   },
   "outputs": [],
   "source": [
    "ax1 = plt.subplot(211, ylabel=\"differential flux\", title=\"modeled fux\")\n",
    "ax1.plot(data.time, w @ X)\n",
    "data.plot()\n",
    "data.bin(5 / 60 / 24, estimate_error=True).errorbar()\n",
    "ylim = ax1.get_ylim()\n",
    "\n",
    "detrended_flux = data.copy()\n",
    "detrended_flux.fluxes = detrended_flux.fluxes - w @ X + 1.0\n",
    "\n",
    "ax2 = plt.subplot(\n",
    "    212, xlabel=\"time (JD)\", ylabel=\"differential flux\", title=\"detrended fux\"\n",
    ")\n",
    "detrended_flux.plot()\n",
    "detrended_flux.bin(5 / 60 / 24, estimate_error=True).errorbar()\n",
    "ax2.set_ylim(ylim)\n",
    "\n",
    "plt.tight_layout()"
   ]
  },
  {
   "cell_type": "markdown",
   "metadata": {},
   "source": [
    "While we can still see the transit, this approach can generally degrade the signal of interest. In the next notebook, we will learn how to use *nuance* to better detect the transits while taking into account this correlated noise."
   ]
  }
 ],
 "metadata": {
  "kernelspec": {
   "display_name": "pysnack10",
   "language": "python",
   "name": "python3"
  },
  "language_info": {
   "codemirror_mode": {
    "name": "ipython",
    "version": 3
   },
   "file_extension": ".py",
   "mimetype": "text/x-python",
   "name": "python",
   "nbconvert_exporter": "python",
   "pygments_lexer": "ipython3",
   "version": "3.11.11"
  }
 },
 "nbformat": 4,
 "nbformat_minor": 2
}
