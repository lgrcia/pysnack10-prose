{
 "cells": [
  {
   "attachments": {},
   "cell_type": "markdown",
   "metadata": {},
   "source": [
    "# Introduction to *prose*\n",
    "\n",
    "```{image} ./core.png\n",
    ":width: 400 px\n",
    ":align: center\n",
    "```\n",
    "\n",
    "A *pipeline*, strictly speaking, is a series of connected tubes running a fluid. In the scientific literature, the word refers to [processing pipelines](https://en.wikipedia.org/wiki/Pipeline_(computing)) in which data are flowing, going through processing units as in tubes.\n",
    "\n",
    "*prose* contains the structure to build modular image processing pipelines with three key objects: [Image](https://prose.readthedocs.io/en/latest/md/generated/prose.Image.html) going through a list of [Block](https://prose.readthedocs.io/en/latest/md/generated/prose.Block.html) assembled into a [Sequence](https://prose.readthedocs.io/en/latest/md/generated/prose.Sequence.html).\n",
    "\n",
    "\n",
    "## Main objects\n",
    "\n",
    "- An [Image](h.htmlttps://prose.readthedocs.io/en/latest/md/generated/prose.Image) contains the image data and metadata\n",
    "\n",
    "```{image} ./image.png\n",
    ":width: 280 px\n",
    ":align: center\n",
    "```\n",
    "\n",
    "- A [Block](https://prose.readthedocs.io/en/latest/md/generated/prose.Block.html) is a single unit of processing acting on the [Image](https://prose.readthedocs.io/en/latest/md/generated/prose.Image.html) object, which can |read| and |write| its attributes, or |modify|.\n",
    "\n",
    "- A [Sequence](https://prose.readthedocs.io/en/latest/md/generated/prose.Sequence.html) is a succession of [Block](https://prose.readthedocs.io/en/latest/md/generated/prose.Block.html).\n",
    "\n",
    "With this architecture *prose* can deal with any type of image (especially FITS images)\n",
    "\n",
    "## Example: Hello World\n",
    "\n",
    "Let's create a random set of images"
   ]
  },
  {
   "cell_type": "code",
   "execution_count": 1,
   "metadata": {
    "execution": {
     "iopub.execute_input": "2024-12-10T17:32:47.709466Z",
     "iopub.status.busy": "2024-12-10T17:32:47.709217Z",
     "iopub.status.idle": "2024-12-10T17:32:48.921492Z",
     "shell.execute_reply": "2024-12-10T17:32:48.921097Z"
    }
   },
   "outputs": [
    {
     "name": "stderr",
     "output_type": "stream",
     "text": [
      "/Users/lgarcia/mambaforge/envs/pysnack10/lib/python3.11/site-packages/prose/console_utils.py:15: TqdmWarning: IProgress not found. Please update jupyter and ipywidgets. See https://ipywidgets.readthedocs.io/en/stable/user_install.html\n",
      "  from tqdm.autonotebook import tqdm\n"
     ]
    }
   ],
   "source": [
    "from prose import Image, Block, Sequence\n",
    "import numpy as np\n",
    "\n",
    "np.random.seed(42)\n",
    "images = [Image(data=np.random.rand(10, 10)) for i in range(5)]"
   ]
  },
  {
   "cell_type": "markdown",
   "metadata": {},
   "source": [
    "Here is a block printing hello world and the image mean"
   ]
  },
  {
   "cell_type": "code",
   "execution_count": 2,
   "metadata": {
    "execution": {
     "iopub.execute_input": "2024-12-10T17:32:48.923074Z",
     "iopub.status.busy": "2024-12-10T17:32:48.922924Z",
     "iopub.status.idle": "2024-12-10T17:32:48.924920Z",
     "shell.execute_reply": "2024-12-10T17:32:48.924655Z"
    }
   },
   "outputs": [],
   "source": [
    "class HelloWorld(Block):\n",
    "    def run(self, image):\n",
    "        image.mean = np.mean(image.data)\n",
    "        print(f\"Hello world (mean: {image.mean:.2f})\")"
   ]
  },
  {
   "attachments": {},
   "cell_type": "markdown",
   "metadata": {},
   "source": [
    "and running a sequence with it"
   ]
  },
  {
   "cell_type": "code",
   "execution_count": 3,
   "metadata": {
    "execution": {
     "iopub.execute_input": "2024-12-10T17:32:48.926108Z",
     "iopub.status.busy": "2024-12-10T17:32:48.926029Z",
     "iopub.status.idle": "2024-12-10T17:32:48.940181Z",
     "shell.execute_reply": "2024-12-10T17:32:48.939773Z"
    }
   },
   "outputs": [
    {
     "name": "stderr",
     "output_type": "stream",
     "text": [
      "\r",
      "  0%|                                                                                                                              | 0/5 [00:00<?, ?images/s]"
     ]
    },
    {
     "name": "stderr",
     "output_type": "stream",
     "text": [
      "\r",
      "100%|███████████████████████████████████████████████████████████████████████████████████████████████████████████████████| 5/5 [00:00<00:00, 15972.22images/s]"
     ]
    },
    {
     "name": "stdout",
     "output_type": "stream",
     "text": [
      "Hello world (mean: 0.47)\n",
      "Hello world (mean: 0.50)\n",
      "Hello world (mean: 0.52)\n",
      "Hello world (mean: 0.49)\n",
      "Hello world (mean: 0.52)\n"
     ]
    },
    {
     "name": "stderr",
     "output_type": "stream",
     "text": [
      "\n"
     ]
    }
   ],
   "source": [
    "sequence = Sequence(\n",
    "    [\n",
    "        HelloWorld(),\n",
    "    ]\n",
    ")\n",
    "\n",
    "sequence.run(images)"
   ]
  }
 ],
 "metadata": {
  "kernelspec": {
   "display_name": "prose3",
   "language": "python",
   "name": "python3"
  },
  "language_info": {
   "codemirror_mode": {
    "name": "ipython",
    "version": 3
   },
   "file_extension": ".py",
   "mimetype": "text/x-python",
   "name": "python",
   "nbconvert_exporter": "python",
   "pygments_lexer": "ipython3",
   "version": "3.11.11"
  },
  "vscode": {
   "interpreter": {
    "hash": "75877e4ba96c35caac37ed872b33bb6f9b97815e438708d922c05a66c04690ae"
   }
  }
 },
 "nbformat": 4,
 "nbformat_minor": 2
}
